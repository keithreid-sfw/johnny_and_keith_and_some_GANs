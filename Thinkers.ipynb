{
 "cells": [
  {
   "cell_type": "code",
   "execution_count": 7,
   "metadata": {},
   "outputs": [],
   "source": [
    "#=  Thinkers by Keith Reid and maybe Johnny Hay\n",
    "    December 2020\n",
    "    Test Driven Development; Clean Code; Sections; Larks a plenty   =#"
   ]
  },
  {
   "cell_type": "code",
   "execution_count": 8,
   "metadata": {},
   "outputs": [],
   "source": [
    "# s0 libraries\n",
    "using Test;"
   ]
  },
  {
   "cell_type": "code",
   "execution_count": 9,
   "metadata": {},
   "outputs": [],
   "source": [
    "# s1 basic functions: in out, getters\n",
    "function get_grown_up_cortex_size()\n",
    "    k::Int64                            = 16\n",
    "    grown_up_cortex_size::Int64         = k^2\n",
    "    return grown_up_cortex_size\n",
    "end\n",
    "\n",
    "function tell_intro()\n",
    "    println(\"Welcome to Thinkers.\")\n",
    "    end;"
   ]
  },
  {
   "cell_type": "code",
   "execution_count": 10,
   "metadata": {},
   "outputs": [],
   "source": [
    "# s2 the mainfunction called thinkers() same as title\n",
    "function thinkers()\n",
    "    tell_intro()\n",
    "    grown_up_cortex_size::Int64 = get_grown_up_cortex_size()\n",
    "end;"
   ]
  },
  {
   "cell_type": "code",
   "execution_count": 11,
   "metadata": {},
   "outputs": [
    {
     "name": "stdout",
     "output_type": "stream",
     "text": [
      "Welcome to Thinkers.\n"
     ]
    },
    {
     "data": {
      "text/plain": [
       "256"
      ]
     },
     "execution_count": 11,
     "metadata": {},
     "output_type": "execute_result"
    }
   ],
   "source": [
    "thinkers()"
   ]
  },
  {
   "cell_type": "code",
   "execution_count": 16,
   "metadata": {},
   "outputs": [],
   "source": [
    "function test_thinkers()\n",
    "    @test typeof(thinkers()) == Int64\n",
    "end\n",
    "\n",
    "function all_tests()\n",
    "    test_thinkers()\n",
    "end;"
   ]
  },
  {
   "cell_type": "code",
   "execution_count": 17,
   "metadata": {},
   "outputs": [
    {
     "name": "stdout",
     "output_type": "stream",
     "text": [
      "Welcome to Thinkers.\n"
     ]
    },
    {
     "data": {
      "text/plain": [
       "\u001b[32m\u001b[1mTest Passed\u001b[22m\u001b[39m"
      ]
     },
     "execution_count": 17,
     "metadata": {},
     "output_type": "execute_result"
    }
   ],
   "source": [
    "all_tests()"
   ]
  },
  {
   "cell_type": "code",
   "execution_count": null,
   "metadata": {},
   "outputs": [],
   "source": []
  }
 ],
 "metadata": {
  "kernelspec": {
   "display_name": "Julia 1.2.0",
   "language": "julia",
   "name": "julia-1.2"
  },
  "language_info": {
   "file_extension": ".jl",
   "mimetype": "application/julia",
   "name": "julia",
   "version": "1.2.0"
  }
 },
 "nbformat": 4,
 "nbformat_minor": 4
}
