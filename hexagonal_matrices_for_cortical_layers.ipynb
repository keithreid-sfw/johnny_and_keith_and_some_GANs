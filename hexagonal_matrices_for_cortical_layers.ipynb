{
 "cells": [
  {
   "cell_type": "code",
   "execution_count": 15,
   "metadata": {},
   "outputs": [],
   "source": [
    "# s0 libraries\n",
    "\n",
    "using Test"
   ]
  },
  {
   "cell_type": "code",
   "execution_count": 16,
   "metadata": {},
   "outputs": [
    {
     "data": {
      "text/plain": [
       "get_size_of_grown_up_cortex (generic function with 1 method)"
      ]
     },
     "execution_count": 16,
     "metadata": {},
     "output_type": "execute_result"
    }
   ],
   "source": [
    "# s1 getters\n",
    "\n",
    "function get_size_of_grown_up_cortex()\n",
    "    size_of_grown_up_cortex::Int64          = 16\n",
    "    return size_of_grown_up_cortex\n",
    "end"
   ]
  },
  {
   "cell_type": "code",
   "execution_count": 23,
   "metadata": {},
   "outputs": [
    {
     "data": {
      "text/plain": [
       "\u001b[32m\u001b[1mTest Passed\u001b[22m\u001b[39m"
      ]
     },
     "execution_count": 23,
     "metadata": {},
     "output_type": "execute_result"
    }
   ],
   "source": [
    "# s2 builders\n",
    "\n",
    "function make_2D_field()\n",
    "    # use anatomical terms\n",
    "    frontback   = get_size_of_grown_up_cortex()\n",
    "    leftright   = get_size_of_grown_up_cortex()\n",
    "    twoD_field  = Matrix(undef, frontback, leftright)\n",
    "    return twoD_field\n",
    "end\n",
    "\n",
    "function test_make_2D_field()\n",
    "    twoD_field = make_2D_field()\n",
    "    @test typeof(twoD_field) == Array{Any,2}\n",
    "end \n",
    "\n",
    "test_make_2D_field()"
   ]
  },
  {
   "cell_type": "code",
   "execution_count": 5,
   "metadata": {},
   "outputs": [
    {
     "data": {
      "text/plain": [
       "hex_main (generic function with 1 method)"
      ]
     },
     "execution_count": 5,
     "metadata": {},
     "output_type": "execute_result"
    }
   ],
   "source": [
    "# s4 hex_main\n",
    "\n",
    "function hex_main()\n",
    "    twoD_field = make_2D_field()\n",
    "    println(twoD_field)\n",
    "end\n"
   ]
  },
  {
   "cell_type": "code",
   "execution_count": 6,
   "metadata": {},
   "outputs": [
    {
     "ename": "MethodError",
     "evalue": "MethodError: no method matching Array{T,2} where T(::Int64, ::Int64)\nClosest candidates are:\n  Array{T,2} where T(!Matched::UndefInitializer, ::Integer, !Matched::Integer) at baseext.jl:22\n  Array{T,2} where T(!Matched::LinearAlgebra.UniformScaling, ::Integer, !Matched::Integer) at /buildworker/worker/package_linux64/build/usr/share/julia/stdlib/v1.2/LinearAlgebra/src/uniformscaling.jl:391",
     "output_type": "error",
     "traceback": [
      "MethodError: no method matching Array{T,2} where T(::Int64, ::Int64)\nClosest candidates are:\n  Array{T,2} where T(!Matched::UndefInitializer, ::Integer, !Matched::Integer) at baseext.jl:22\n  Array{T,2} where T(!Matched::LinearAlgebra.UniformScaling, ::Integer, !Matched::Integer) at /buildworker/worker/package_linux64/build/usr/share/julia/stdlib/v1.2/LinearAlgebra/src/uniformscaling.jl:391",
      "",
      "Stacktrace:",
      " [1] make_2D_field() at ./In[4]:6",
      " [2] hex_main() at ./In[5]:4",
      " [3] top-level scope at In[6]:1"
     ]
    }
   ],
   "source": [
    "hex_main()"
   ]
  },
  {
   "cell_type": "code",
   "execution_count": null,
   "metadata": {},
   "outputs": [],
   "source": []
  }
 ],
 "metadata": {
  "kernelspec": {
   "display_name": "Julia 1.2.0",
   "language": "julia",
   "name": "julia-1.2"
  },
  "language_info": {
   "file_extension": ".jl",
   "mimetype": "application/julia",
   "name": "julia",
   "version": "1.2.0"
  }
 },
 "nbformat": 4,
 "nbformat_minor": 4
}
