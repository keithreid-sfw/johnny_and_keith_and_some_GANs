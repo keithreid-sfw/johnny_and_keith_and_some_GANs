{
 "cells": [
  {
   "cell_type": "code",
   "execution_count": 1,
   "metadata": {},
   "outputs": [],
   "source": [
    "# s0 libraries\n",
    "\n",
    "using Test;"
   ]
  },
  {
   "cell_type": "code",
   "execution_count": 2,
   "metadata": {},
   "outputs": [],
   "source": [
    "# s1 getters tellers and basic in out\n",
    "# try to only have lo fi ascii based graphics no plotting libraries\n",
    "# if you can't ascii it you don't understand it\n",
    "\n",
    "# if it doesnt have a test you have to say why\n",
    "\n",
    "# no test due to being arbitrary (\"nta\")\n",
    "function get_size_of_grown_up_cortex()\n",
    "    size_of_grown_up_cortex::Int64          = 16\n",
    "    return size_of_grown_up_cortex\n",
    "end;"
   ]
  },
  {
   "cell_type": "code",
   "execution_count": 3,
   "metadata": {},
   "outputs": [],
   "source": [
    "# s2 builders\n",
    "\n",
    "function make_2D_field()\n",
    "    # use anatomical terms\n",
    "    frontback   = get_size_of_grown_up_cortex()\n",
    "    leftright   = get_size_of_grown_up_cortex()\n",
    "    twoD_field  = Matrix(undef, frontback, leftright)\n",
    "    return twoD_field\n",
    "end;"
   ]
  },
  {
   "cell_type": "code",
   "execution_count": 4,
   "metadata": {},
   "outputs": [],
   "source": [
    "# s3 maths\n",
    "\n",
    "#=\n",
    "       _   \n",
    "--->   *\\_/*\\_/*\\_/*\\_/*\\_/*\\_/*\\_/*\\_/*\\_/*\\_/    this is a horizontal row\n",
    "       _/*\\_/*\\_/*\\_/*\\_/*\\_/*\\_/*\\_/*\\_/*\\_/*\\_      first cell to the right drops down  ->    -> \n",
    "    \\_/ \\_/ \\_/ \\_/ \\_/ \\_/ \\_/ \\_/^\\_/ \\_/                                                 ->    -> \n",
    "  \\_/ \\_/ \\_/ \\_/ \\_/ \\_/ \\_/ \\_/ \\_/ \\_/        \n",
    " _/ \\_/ \\_/ \\_/ \\_/ \\_/ \\_/ \\_/ \\_/^\\_/ \\_       \n",
    "  \\_/ \\_/ \\_/ \\_/ \\_/ \\_/ \\_/ \\_/ \\_/ \\_/         \n",
    "\n",
    "             and this is a column  ^\n",
    "                                   ^\n",
    "=#"
   ]
  },
  {
   "cell_type": "code",
   "execution_count": 5,
   "metadata": {},
   "outputs": [],
   "source": [
    "# s4 biology"
   ]
  },
  {
   "cell_type": "code",
   "execution_count": 6,
   "metadata": {},
   "outputs": [],
   "source": [
    "# s5 hex_main\n",
    "\n",
    "function hex_main()\n",
    "    twoD_field = make_2D_field()\n",
    "    println(twoD_field)\n",
    "end;"
   ]
  },
  {
   "cell_type": "code",
   "execution_count": 7,
   "metadata": {},
   "outputs": [
    {
     "name": "stdout",
     "output_type": "stream",
     "text": [
      "Any[#undef #undef #undef #undef #undef #undef #undef #undef #undef #undef #undef #undef #undef #undef #undef #undef; #undef #undef #undef #undef #undef #undef #undef #undef #undef #undef #undef #undef #undef #undef #undef #undef; #undef #undef #undef #undef #undef #undef #undef #undef #undef #undef #undef #undef #undef #undef #undef #undef; #undef #undef #undef #undef #undef #undef #undef #undef #undef #undef #undef #undef #undef #undef #undef #undef; #undef #undef #undef #undef #undef #undef #undef #undef #undef #undef #undef #undef #undef #undef #undef #undef; #undef #undef #undef #undef #undef #undef #undef #undef #undef #undef #undef #undef #undef #undef #undef #undef; #undef #undef #undef #undef #undef #undef #undef #undef #undef #undef #undef #undef #undef #undef #undef #undef; #undef #undef #undef #undef #undef #undef #undef #undef #undef #undef #undef #undef #undef #undef #undef #undef; #undef #undef #undef #undef #undef #undef #undef #undef #undef #undef #undef #undef #undef #undef #undef #undef; #undef #undef #undef #undef #undef #undef #undef #undef #undef #undef #undef #undef #undef #undef #undef #undef; #undef #undef #undef #undef #undef #undef #undef #undef #undef #undef #undef #undef #undef #undef #undef #undef; #undef #undef #undef #undef #undef #undef #undef #undef #undef #undef #undef #undef #undef #undef #undef #undef; #undef #undef #undef #undef #undef #undef #undef #undef #undef #undef #undef #undef #undef #undef #undef #undef; #undef #undef #undef #undef #undef #undef #undef #undef #undef #undef #undef #undef #undef #undef #undef #undef; #undef #undef #undef #undef #undef #undef #undef #undef #undef #undef #undef #undef #undef #undef #undef #undef; #undef #undef #undef #undef #undef #undef #undef #undef #undef #undef #undef #undef #undef #undef #undef #undef]\n"
     ]
    }
   ],
   "source": [
    "hex_main()"
   ]
  },
  {
   "cell_type": "code",
   "execution_count": 8,
   "metadata": {},
   "outputs": [
    {
     "data": {
      "text/plain": [
       "\u001b[32m\u001b[1mTest Passed\u001b[22m\u001b[39m"
      ]
     },
     "execution_count": 8,
     "metadata": {},
     "output_type": "execute_result"
    }
   ],
   "source": [
    "# s7 tests\n",
    "\n",
    "function test_make_2D_field()\n",
    "    twoD_field = make_2D_field()\n",
    "    @test typeof(twoD_field) == Array{Any,2}\n",
    "end \n",
    "\n",
    "function tests()\n",
    "    test_make_2D_field()\n",
    "end\n",
    "\n",
    "tests()"
   ]
  }
 ],
 "metadata": {
  "kernelspec": {
   "display_name": "Julia 1.2.0",
   "language": "julia",
   "name": "julia-1.2"
  },
  "language_info": {
   "file_extension": ".jl",
   "mimetype": "application/julia",
   "name": "julia",
   "version": "1.2.0"
  }
 },
 "nbformat": 4,
 "nbformat_minor": 4
}
